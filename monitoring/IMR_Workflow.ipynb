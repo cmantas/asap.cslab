{
 "cells": [
  {
   "cell_type": "code",
   "execution_count": 1,
   "metadata": {
    "collapsed": true
   },
   "outputs": [],
   "source": [
    "from lib import MongoBackend\n",
    "from matplotlib import pyplot as plt\n",
    "from matplotlib.pyplot import show\n",
    "backend = MongoBackend('master')"
   ]
  },
  {
   "cell_type": "markdown",
   "metadata": {},
   "source": [
    "## Centralized Preproc"
   ]
  },
  {
   "cell_type": "code",
   "execution_count": 27,
   "metadata": {
    "collapsed": false
   },
   "outputs": [],
   "source": [
    "query = ({}, {'lines':1, 'time':1})\n",
    "backend.plot_query(\"imr_preprocess\", query, title=\"Centralized Preprocess\",\n",
    "                   ylabel='time (sec)', xlabel='#entries',\n",
    "                   label=\"exec. time\")"
   ]
  },
  {
   "cell_type": "markdown",
   "metadata": {},
   "source": [
    "## Centralized W2V Train"
   ]
  },
  {
   "cell_type": "code",
   "execution_count": 29,
   "metadata": {
    "collapsed": false
   },
   "outputs": [],
   "source": [
    "backend.plot_query(\"imr_w2v_train\", query, '-x', title=\"W2V Centralized Train\",\n",
    "                   ylabel='time (sec)', xlabel='#entries',label=\"exec. time\")\n",
    "\n",
    "### alternative implementation ###\n",
    "# res = backend.query(\"imr_w2v_train\", query)\n",
    "# res = zip(*res)[1:]\n",
    "\n",
    "# import matplotlib.pyplot as plt\n",
    "# plt.plot(res[0],res[1], alpha=0.3)\n",
    "# plt.scatter(res[0],res[1], marker='D',s=50, color='red')\n",
    "\n",
    "\n",
    "plt.show()"
   ]
  },
  {
   "cell_type": "markdown",
   "metadata": {},
   "source": [
    "## Centralized W2V Vectorize"
   ]
  },
  {
   "cell_type": "code",
   "execution_count": 30,
   "metadata": {
    "collapsed": true
   },
   "outputs": [],
   "source": [
    "backend.plot_query(\"imr_w2v_vectorize\", query, title=\"W2V Centralized Vectorization\",\n",
    "                   ylabel='time (sec)', xlabel='# documents',\n",
    "                   label=\"exec. time\")"
   ]
  },
  {
   "cell_type": "markdown",
   "metadata": {},
   "source": [
    "## Centralized Classifier Train"
   ]
  },
  {
   "cell_type": "code",
   "execution_count": 31,
   "metadata": {
    "collapsed": false
   },
   "outputs": [],
   "source": [
    "backend.plot_query(\"imr_train\", query, title=\"Train Centralized Classifier\",\n",
    "                   ylabel='time (sec)', xlabel='# documents',\n",
    "                   label=\"exec. time\")"
   ]
  },
  {
   "cell_type": "markdown",
   "metadata": {},
   "source": [
    "## Centralized Classification"
   ]
  },
  {
   "cell_type": "code",
   "execution_count": null,
   "metadata": {
    "collapsed": true
   },
   "outputs": [],
   "source": [
    "backend.plot_query(\"imr_predict\", query, title=\"Predict with Centralized Classifier\",\n",
    "                   ylabel='time (sec)', xlabel='# documents',\n",
    "                   label=\"exec. time\")"
   ]
  },
  {
   "cell_type": "markdown",
   "metadata": {},
   "source": [
    "## Spark W2V Train"
   ]
  },
  {
   "cell_type": "code",
   "execution_count": 4,
   "metadata": {
    "collapsed": true
   },
   "outputs": [],
   "source": [
    "query = ({}, {'lines':1, 'time':1})\n",
    "backend.plot_query(\"imr_w2v_train_spark\", query, title=\"Spark W2V Train\",\n",
    "                   ylabel='time (sec)', xlabel='#entries',\n",
    "                   label=\"exec. time\")"
   ]
  },
  {
   "cell_type": "markdown",
   "metadata": {},
   "source": [
    "## Spark W2V Vectorize"
   ]
  },
  {
   "cell_type": "code",
   "execution_count": 8,
   "metadata": {
    "collapsed": true
   },
   "outputs": [],
   "source": [
    "backend.plot_query(\"imr_w2v_vectorize_spark\", query, title=\"Spark W2V Vectorization\",\n",
    "                   ylabel='time (sec)', xlabel='# documents',\n",
    "                   label=\"exec. time\")"
   ]
  },
  {
   "cell_type": "markdown",
   "metadata": {},
   "source": [
    "## Spark Classifier Train"
   ]
  },
  {
   "cell_type": "code",
   "execution_count": 7,
   "metadata": {
    "collapsed": true
   },
   "outputs": [],
   "source": [
    "backend.plot_query(\"imr_lr_train_spark\", query, title=\"Train Spark Classifier\",\n",
    "                   ylabel='time (sec)', xlabel='# documents',\n",
    "                   label=\"exec. time\")"
   ]
  },
  {
   "cell_type": "markdown",
   "metadata": {},
   "source": [
    "## Spark Classification"
   ]
  },
  {
   "cell_type": "code",
   "execution_count": 10,
   "metadata": {
    "collapsed": true
   },
   "outputs": [],
   "source": [
    "backend.plot_query(\"imr_classify_spark\", query, title=\"Predict with Spark Classifier\",\n",
    "                   ylabel='time (sec)', xlabel='# documents',\n",
    "                   label=\"exec. time\")"
   ]
  },
  {
   "cell_type": "markdown",
   "metadata": {},
   "source": [
    "## Compararative"
   ]
  },
  {
   "cell_type": "markdown",
   "metadata": {},
   "source": [
    "### Classifier train"
   ]
  },
  {
   "cell_type": "code",
   "execution_count": 15,
   "metadata": {
    "collapsed": true
   },
   "outputs": [],
   "source": [
    "backend.plot_query(\"imr_train\", query, title=\"Classifier Training\",\n",
    "                   ylabel='time (sec)', xlabel='# documents',\n",
    "                   label=\"centralized\", show_plot=False)\n",
    "backend.plot_query(\"imr_lr_train_spark\", query,\n",
    "                   ylabel='time (sec)', xlabel='# documents',\n",
    "                   label=\"Spark\")\n"
   ]
  },
  {
   "cell_type": "markdown",
   "metadata": {},
   "source": [
    "### Classify"
   ]
  },
  {
   "cell_type": "code",
   "execution_count": 22,
   "metadata": {
    "collapsed": true
   },
   "outputs": [],
   "source": [
    "backend.plot_query(\"imr_predict\", query, title=\"Predict using Model\",\n",
    "                   ylabel='time (sec)', xlabel='# documents',\n",
    "                   label=\"Centralized\", show_plot=False)\n",
    "backend.plot_query(\"imr_classify_spark\", query,\n",
    "                   ylabel='time (sec)', xlabel='# documents',\n",
    "                   label=\"Spark\")"
   ]
  },
  {
   "cell_type": "markdown",
   "metadata": {},
   "source": [
    "### W2V train"
   ]
  },
  {
   "cell_type": "code",
   "execution_count": 18,
   "metadata": {
    "collapsed": true
   },
   "outputs": [],
   "source": [
    "query = ({}, {'lines':1, 'time':1})\n",
    "backend.plot_query(\"imr_w2v_train\", query, '-x', title=\"W2V Train\", show_plot=False,\n",
    "                   ylabel='time (sec)', xlabel='#entries',label=\"Centralized\")\n",
    "backend.plot_query(\"imr_w2v_train_spark\", query,\n",
    "                   ylabel='time (sec)', xlabel='#entries',\n",
    "                   label=\"Spark\")"
   ]
  },
  {
   "cell_type": "markdown",
   "metadata": {},
   "source": [
    "### W2V Vectorize"
   ]
  },
  {
   "cell_type": "code",
   "execution_count": 20,
   "metadata": {
    "collapsed": false
   },
   "outputs": [],
   "source": [
    "backend.plot_query(\"imr_w2v_vectorize\", query, title=\"W2V Vectorization\",\n",
    "                   ylabel='Centralized', xlabel='# documents', show_plot=False,\n",
    "                   label=\"Centralized\")\n",
    "\n",
    "\n",
    "backend.plot_query(\"imr_w2v_vectorize_spark\", query, \n",
    "                   ylabel='time (sec)', xlabel='# documents',\n",
    "                   label=\"Spark\")"
   ]
  }
 ],
 "metadata": {
  "kernelspec": {
   "display_name": "Python 2",
   "language": "python",
   "name": "python2"
  },
  "language_info": {
   "codemirror_mode": {
    "name": "ipython",
    "version": 2
   },
   "file_extension": ".py",
   "mimetype": "text/x-python",
   "name": "python",
   "nbconvert_exporter": "python",
   "pygments_lexer": "ipython2",
   "version": "2.7.6"
  }
 },
 "nbformat": 4,
 "nbformat_minor": 0
}
