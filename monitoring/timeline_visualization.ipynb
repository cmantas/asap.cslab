{
 "cells": [
  {
   "cell_type": "markdown",
   "metadata": {},
   "source": [
    "Import some stuff"
   ]
  },
  {
   "cell_type": "code",
   "execution_count": 16,
   "metadata": {
    "collapsed": true
   },
   "outputs": [],
   "source": [
    "from lib import MongoBackend\n",
    "from matplotlib import pyplot as plt\n",
    "from matplotlib.pyplot import show\n",
    "from collections import defaultdict\n",
    "from pprint import pprint\n",
    "backend = MongoBackend('master')"
   ]
  },
  {
   "cell_type": "code",
   "execution_count": 20,
   "metadata": {
    "collapsed": false
   },
   "outputs": [
    {
     "name": "stdout",
     "output_type": "stream",
     "text": [
      "[u'pkts_out', u'cpu_idle', u'cpu_num', u'os_release', u'cpu_wio', u'cpu_user', u'load_fifteen', u'gexec', u'io_read', u'mem_total', u'cpu_speed', u'mem_cached', u'swap_total', u'bytes_in', u'cpu_aidle', u'boottime', u'io_write', u'cpu_nice', u'os_name', u'part_max_used', u'swap_free', u'bytes_out', u'mem_buffers', u'pkts_in', u'load_five', u'load_one', u'disk_free', u'machine_type', u'proc_total', u'mem_free', u'disk_total', u'mem_shared', u'cpu_system', u'proc_run', 'time']\n",
      "[u'pkts_out', u'cpu_idle', u'cpu_num', u'os_release', u'cpu_wio', u'cpu_user', u'load_fifteen', u'gexec', u'io_read', u'mem_total', u'cpu_speed', u'mem_cached', u'swap_total', u'bytes_in', u'cpu_aidle', u'boottime', u'io_write', u'cpu_nice', u'os_name', u'part_max_used', u'swap_free', u'bytes_out', u'mem_buffers', u'pkts_in', u'load_five', u'load_one', u'disk_free', u'machine_type', u'proc_total', u'mem_free', u'disk_total', u'mem_shared', u'cpu_system', u'proc_run', 'time']\n"
     ]
    }
   ],
   "source": [
    "def get_timelines(experiment, query):\n",
    "    get_timeline=lambda d: d[0][1]\n",
    "    raw_timeline_data = backend.query(experiment, query )\n",
    "    metrics_timeline = get_timeline(raw_timeline_data)\n",
    "    metrics= defaultdict(list)\n",
    "    \n",
    "    for m in metrics_timeline:\n",
    "        metrics['time'].append(m[0])\n",
    "        master_metrics = m[1]['master']\n",
    "        for k,v in master_metrics.iteritems():\n",
    "                metrics[k].append(v)\n",
    "        \n",
    "    print metrics.keys()    \n",
    "    # special cases\n",
    "    metrics['cpu']= map(lambda i: 100-i, metrics['cpu_idle'])\n",
    "    return metrics\n",
    "\n",
    "def plot_timeline(subplot, x,y, title=None, xlabel=None, ylabel=None):\n",
    "    subplot.plot(x,y)\n",
    "    if title: subplot.set_title(title)\n",
    "    if ylabel: subplot.set_ylabel(ylabel)\n",
    "    if xlabel: subplot.set_xlabel(xlabel)\n",
    "    \n",
    "\n",
    "def plot_timelines(experiment, query):\n",
    "    tm = get_timelines(experiment,query)\n",
    "    f, (ax1,ax2) = plt.subplots(2, sharex=True)\n",
    "    plot_timeline(ax1,tm['time'], tm['mem_free'], \"Free Memory\", 'Time (sec)', 'GB')\n",
    "    plot_timeline(ax2, tm['time'], tm['cpu'],\"CPU Utilization\", None, '%')\n",
    "    plt.show()\n",
    "\n",
    "plot_timelines('imr_w2v_vectorize',({\"lines\":1001000},{'metrics_timeline':1}) ) #failed\n",
    "\n",
    "plot_timelines('imr_w2v_vectorize',({\"lines\":251000},{'metrics_timeline':1}) )"
   ]
  },
  {
   "cell_type": "code",
   "execution_count": 48,
   "metadata": {
    "collapsed": true
   },
   "outputs": [],
   "source": []
  },
  {
   "cell_type": "code",
   "execution_count": 38,
   "metadata": {
    "collapsed": false
   },
   "outputs": [],
   "source": [
    "#backend.plot_query('imr_w2v_vectorize', ({},{'lines':1, 'time':1}))\n",
    "\n"
   ]
  },
  {
   "cell_type": "code",
   "execution_count": null,
   "metadata": {
    "collapsed": true
   },
   "outputs": [],
   "source": []
  }
 ],
 "metadata": {
  "kernelspec": {
   "display_name": "Python 2",
   "language": "python",
   "name": "python2"
  },
  "language_info": {
   "codemirror_mode": {
    "name": "ipython",
    "version": 2
   },
   "file_extension": ".py",
   "mimetype": "text/x-python",
   "name": "python",
   "nbconvert_exporter": "python",
   "pygments_lexer": "ipython2",
   "version": "2.7.6"
  }
 },
 "nbformat": 4,
 "nbformat_minor": 0
}
