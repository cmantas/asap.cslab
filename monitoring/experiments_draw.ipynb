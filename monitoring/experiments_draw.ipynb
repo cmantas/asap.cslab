{
 "cells": [
  {
   "cell_type": "markdown",
   "metadata": {},
   "source": [
    "Import some stuff"
   ]
  },
  {
   "cell_type": "code",
   "execution_count": 3,
   "metadata": {
    "collapsed": true
   },
   "outputs": [],
   "source": [
    "from lib import MongoBackend\n",
    "from matplotlib import pyplot as plt\n",
    "from matplotlib.pyplot import show\n",
    "backend = MongoBackend('master')"
   ]
  },
  {
   "cell_type": "code",
   "execution_count": null,
   "metadata": {
    "collapsed": true
   },
   "outputs": [],
   "source": [
    "res = backend.query(\"mahout_kmeans_text\", ({'minDF':110, 'k':10}, {'input_size':1, 'output_size':1}))\n",
    "print len(res)\n"
   ]
  },
  {
   "cell_type": "markdown",
   "metadata": {},
   "source": [
    "## Simple Example: input vs output size"
   ]
  },
  {
   "cell_type": "code",
   "execution_count": 4,
   "metadata": {
    "collapsed": false
   },
   "outputs": [],
   "source": [
    "query = ({'minDF':110, 'k':10}, {'input_size':1, 'output_size':1})\n",
    "backend.plot_query(\"mahout_kmeans_text\", query, title=\"Input vs Output size\", ylabel='size(bytes)', xlabel='size(bytes)')"
   ]
  },
  {
   "cell_type": "markdown",
   "metadata": {},
   "source": [
    "### Mahout K-means, multi-K"
   ]
  },
  {
   "cell_type": "code",
   "execution_count": 5,
   "metadata": {
    "collapsed": true
   },
   "outputs": [],
   "source": [
    "plt.title(\"Mahout Kmeans text\"); plt.ylabel('time(sec)'), plt.xlabel('#documents')\n",
    "query = (({'minDF':110, 'k':-1}, {'documents':1, 'time':1}))\n",
    "for k in range(5,21,5):\n",
    "    query[0]['k']=k\n",
    "    backend.plot_query(\"mahout_kmeans_text\", query,label='k=%d'%k, show_plot=False)\n",
    "show()"
   ]
  },
  {
   "cell_type": "code",
   "execution_count": 19,
   "metadata": {
    "collapsed": true
   },
   "outputs": [],
   "source": []
  },
  {
   "cell_type": "code",
   "execution_count": 11,
   "metadata": {
    "collapsed": true
   },
   "outputs": [],
   "source": [
    "query = (({'minDF':110, 'k':10}, {'input_size':1, 'time':1}))\n",
    "plt.title(\"Mahout Kmeans text\"); plt.ylabel('time(sec)'), plt.xlabel('size (bytes)')\n",
    "for k in range(5,21,5):\n",
    "    query[0]['k']=k\n",
    "    backend.plot_query(\"mahout_kmeans_text\", query, label='k=%d'%k, show_plot=False)\n",
    "plt.show()"
   ]
  },
  {
   "cell_type": "code",
   "execution_count": null,
   "metadata": {
    "collapsed": true
   },
   "outputs": [],
   "source": [
    "query = (({'k':-1}, {'documents':1, 'time':1}))\n",
    "plt.title(\"Weka Kmeans text\"); plt.ylabel('time(sec)'), plt.xlabel('# documents')\n",
    "for k in [2, 5,10,20]:\n",
    "    query[0]['k']=k\n",
    "    backend.plot_query(\"weka_kmeans_comp\", query, label='k=%d'%k, show_plot=False)\n",
    "plt.show()"
   ]
  },
  {
   "cell_type": "code",
   "execution_count": null,
   "metadata": {
    "collapsed": true
   },
   "outputs": [],
   "source": [
    "query = (({'k':-1}, {'documents':1, 'time':1}))\n",
    "plt.title(\"Cilk Kmeans text\"); plt.ylabel('time(sec)'), plt.xlabel('# documents')\n",
    "for k in [2, 5,10,20]:\n",
    "    query[0]['k']=k\n",
    "    backend.plot_query(\"cilk_kmeans_comp\", query, label='k=%d'%k, show_plot=False)\n",
    "plt.show()"
   ]
  },
  {
   "cell_type": "code",
   "execution_count": null,
   "metadata": {
    "collapsed": true
   },
   "outputs": [],
   "source": [
    "### Spark K-means, multi-K"
   ]
  },
  {
   "cell_type": "code",
   "execution_count": 20,
   "metadata": {
    "collapsed": true
   },
   "outputs": [],
   "source": [
    "plt.title(\"Spark Kmeans text\"); plt.ylabel('time(sec)'), plt.xlabel('#documents')\n",
    "query = (({'minDF':10, 'k':-1}, {'documents':1, 'time':1}))\n",
    "for k in range(5,21,5):\n",
    "    query[0]['k']=k\n",
    "    backend.plot_query(\"spark_kmeans_text\", query,label='k=%d'%k, show_plot=False)\n",
    "show()"
   ]
  },
  {
   "cell_type": "code",
   "execution_count": 21,
   "metadata": {
    "collapsed": true
   },
   "outputs": [],
   "source": [
    "### Cilk"
   ]
  },
  {
   "cell_type": "code",
   "execution_count": null,
   "metadata": {
    "collapsed": true
   },
   "outputs": [],
   "source": [
    "plt.title(\"Cilk K-Means (mindDF:110)\"); plt.ylabel('time(sec)'), plt.xlabel('#documents')\n",
    "query = (({'minDF':160, 'k':-1}, {'documents':1, 'time':1}))\n",
    "for k in range(5,21,5):\n",
    "    query[0]['k']=k\n",
    "    backend.plot_query(\"cilk_kmeans\", query,label='k=%d'%k, show_plot=False)\n",
    "show()"
   ]
  },
  {
   "cell_type": "code",
   "execution_count": 2,
   "metadata": {
    "collapsed": false
   },
   "outputs": [],
   "source": [
    "plt.title(\"Cilk K-Means (k:10)\"); plt.ylabel('time(sec)'), plt.xlabel('#documents')\n",
    "query = (({'minDF':1, 'k':10}, {'documents':1, 'time':1}))\n",
    "for minDF in range(10,161,50):\n",
    "    query[0]['minDF']=minDF\n",
    "    backend.plot_query(\"cilk_kmeans\", query,label='minDF=%d'%minDF, show_plot=False)\n",
    "show()"
   ]
  },
  {
   "cell_type": "code",
   "execution_count": 26,
   "metadata": {
    "collapsed": false
   },
   "outputs": [
    {
     "name": "stdout",
     "output_type": "stream",
     "text": [
      "[0,\n",
      " {u'master': {u'boottime': 1452608069,\n",
      "              u'bytes_in': 5691.71,\n",
      "              u'bytes_out': 1317.9,\n",
      "              u'cpu_aidle': 0.0,\n",
      "              u'cpu_idle': 73.8,\n",
      "              u'cpu_nice': 0.0,\n",
      "              u'cpu_num': 4,\n",
      "              u'cpu_speed': 1999,\n",
      "              u'cpu_system': 0.3,\n",
      "              u'cpu_user': 25.9,\n",
      "              u'cpu_wio': 0.1,\n",
      "              u'disk_free': 28.086,\n",
      "              u'disk_total': 50.498,\n",
      "              u'gexec': u'OFF',\n",
      "              u'io_read': 108,\n",
      "              u'io_write': 364,\n",
      "              u'load_fifteen': 1.07,\n",
      "              u'load_five': 1.12,\n",
      "              u'load_one': 1.24,\n",
      "              u'machine_type': u'x86_64',\n",
      "              u'mem_buffers': 7872,\n",
      "              u'mem_cached': 1298396,\n",
      "              u'mem_free': 5446168,\n",
      "              u'mem_shared': 0,\n",
      "              u'mem_total': 8176820,\n",
      "              u'os_name': u'Linux',\n",
      "              u'os_release': u'3.13.0-65-generic',\n",
      "              u'part_max_used': 82.2,\n",
      "              u'pkts_in': 34.57,\n",
      "              u'pkts_out': 12.1,\n",
      "              u'proc_run': 1,\n",
      "              u'proc_total': 447,\n",
      "              u'swap_free': 0,\n",
      "              u'swap_total': 0}}]\n"
     ]
    }
   ],
   "source": []
  },
  {
   "cell_type": "code",
   "execution_count": null,
   "metadata": {
    "collapsed": true
   },
   "outputs": [],
   "source": []
  }
 ],
 "metadata": {
  "kernelspec": {
   "display_name": "Python 2",
   "language": "python",
   "name": "python2"
  },
  "language_info": {
   "codemirror_mode": {
    "name": "ipython",
    "version": 2
   },
   "file_extension": ".py",
   "mimetype": "text/x-python",
   "name": "python",
   "nbconvert_exporter": "python",
   "pygments_lexer": "ipython2",
   "version": "2.7.6"
  }
 },
 "nbformat": 4,
 "nbformat_minor": 0
}
