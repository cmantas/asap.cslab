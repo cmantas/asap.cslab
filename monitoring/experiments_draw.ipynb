{
 "cells": [
  {
   "cell_type": "markdown",
   "metadata": {},
   "source": [
    "Import some stuff"
   ]
  },
  {
   "cell_type": "code",
   "execution_count": 5,
   "metadata": {
    "collapsed": false
   },
   "outputs": [],
   "source": [
    "from lib import get_backend, set_backend\n",
    "from matplotlib import pyplot as plt\n",
    "from matplotlib.pyplot import show\n",
    "backend = get_backend()"
   ]
  },
  {
   "cell_type": "markdown",
   "metadata": {},
   "source": [
    "## Simple Example: input vs output size"
   ]
  },
  {
   "cell_type": "code",
   "execution_count": 12,
   "metadata": {
    "collapsed": false
   },
   "outputs": [],
   "source": [
    "query = (({'minDF':110, 'k':10}, {'input_size':1, 'output_size':1}))\n",
    "backend.plot_query(\"mahout_kmeans_text\", query, title=\"Input vs Output size\", ylabel='size(bytes)', xlabel='size(bytes)')"
   ]
  },
  {
   "cell_type": "markdown",
   "metadata": {},
   "source": [
    "### Mahout K-means, multi-K"
   ]
  },
  {
   "cell_type": "code",
   "execution_count": null,
   "metadata": {
    "collapsed": false
   },
   "outputs": [],
   "source": [
    "plt.title(\"Mahout Kmeans text\"); plt.ylabel('time(sec)'), plt.xlabel('#documents')\n",
    "query = (({'minDF':110, 'k':-1}, {'documents':1, 'time':1}))\n",
    "for k in range(5,21,5):\n",
    "    query[0]['k']=k\n",
    "    backend.plot_query(\"mahout_kmeans_text\", query,label='k=%d'%k, show_plot=False)\n",
    "show()\n"
   ]
  },
  {
   "cell_type": "code",
   "execution_count": 13,
   "metadata": {
    "collapsed": false
   },
   "outputs": [],
   "source": [
    "query = (({'minDF':110, 'k':10}, {'input_size':1, 'time':1}))\n",
    "plt.title(\"Mahout Kmeans text\"); plt.ylabel('time(sec)'), plt.xlabel('size (bytes)')\n",
    "for k in range(5,21,5):\n",
    "    query[0]['k']=k\n",
    "    backend.plot_query(\"mahout_kmeans_text\", query, label='k=%d'%k, show_plot=False)\n",
    "plt.show()"
   ]
  },
  {
   "cell_type": "code",
   "execution_count": null,
   "metadata": {
    "collapsed": false
   },
   "outputs": [],
   "source": []
  },
  {
   "cell_type": "code",
   "execution_count": null,
   "metadata": {
    "collapsed": true
   },
   "outputs": [],
   "source": []
  }
 ],
 "metadata": {
  "kernelspec": {
   "display_name": "Python 2",
   "language": "python",
   "name": "python2"
  },
  "language_info": {
   "codemirror_mode": {
    "name": "ipython",
    "version": 2
   },
   "file_extension": ".py",
   "mimetype": "text/x-python",
   "name": "python",
   "nbconvert_exporter": "python",
   "pygments_lexer": "ipython2",
   "version": "2.7.6"
  }
 },
 "nbformat": 4,
 "nbformat_minor": 0
}
