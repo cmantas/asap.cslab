{
 "cells": [
  {
   "cell_type": "markdown",
   "metadata": {},
   "source": [
    "Import some stuff"
   ]
  },
  {
   "cell_type": "code",
   "execution_count": 1,
   "metadata": {
    "collapsed": true
   },
   "outputs": [],
   "source": [
    "from lib import MongoBackend\n",
    "from matplotlib import pyplot as plt\n",
    "from matplotlib.pyplot import show\n",
    "backend = MongoBackend('master')"
   ]
  },
  {
   "cell_type": "code",
   "execution_count": null,
   "metadata": {
    "collapsed": true
   },
   "outputs": [],
   "source": [
    "res = backend.query(\"mahout_kmeans_text\", ({'minDF':110, 'k':10}, {'input_size':1, 'output_size':1}))\n",
    "print len(res)\n"
   ]
  },
  {
   "cell_type": "markdown",
   "metadata": {},
   "source": [
    "## Simple Example: input vs output size"
   ]
  },
  {
   "cell_type": "code",
   "execution_count": 4,
   "metadata": {
    "collapsed": false
   },
   "outputs": [],
   "source": [
    "query = ({'minDF':110, 'k':10}, {'input_size':1, 'output_size':1})\n",
    "backend.plot_query(\"mahout_kmeans_text\", query, title=\"Input vs Output size\", ylabel='size(bytes)', xlabel='size(bytes)')"
   ]
  },
  {
   "cell_type": "markdown",
   "metadata": {},
   "source": [
    "### Mahout K-means, multi-K"
   ]
  },
  {
   "cell_type": "code",
   "execution_count": 5,
   "metadata": {
    "collapsed": true
   },
   "outputs": [],
   "source": [
    "plt.title(\"Mahout Kmeans text\"); plt.ylabel('time(sec)'), plt.xlabel('#documents')\n",
    "query = (({'minDF':110, 'k':-1}, {'documents':1, 'time':1}))\n",
    "for k in range(5,21,5):\n",
    "    query[0]['k']=k\n",
    "    backend.plot_query(\"mahout_kmeans_text\", query,label='k=%d'%k, show_plot=False)\n",
    "show()"
   ]
  },
  {
   "cell_type": "code",
   "execution_count": 19,
   "metadata": {
    "collapsed": true
   },
   "outputs": [],
   "source": []
  },
  {
   "cell_type": "code",
   "execution_count": 11,
   "metadata": {
    "collapsed": true
   },
   "outputs": [],
   "source": [
    "query = (({'minDF':110, 'k':10}, {'input_size':1, 'time':1}))\n",
    "plt.title(\"Mahout Kmeans text\"); plt.ylabel('time(sec)'), plt.xlabel('size (bytes)')\n",
    "for k in range(5,21,5):\n",
    "    query[0]['k']=k\n",
    "    backend.plot_query(\"mahout_kmeans_text\", query, label='k=%d'%k, show_plot=False)\n",
    "plt.show()"
   ]
  },
  {
   "cell_type": "code",
   "execution_count": null,
   "metadata": {
    "collapsed": true
   },
   "outputs": [],
   "source": [
    "query = (({'k':-1}, {'documents':1, 'time':1}))\n",
    "plt.title(\"Weka Kmeans text\"); plt.ylabel('time(sec)'), plt.xlabel('# documents')\n",
    "for k in [2, 5,10,20]:\n",
    "    query[0]['k']=k\n",
    "    backend.plot_query(\"weka_kmeans_comp\", query, label='k=%d'%k, show_plot=False)\n",
    "plt.show()"
   ]
  },
  {
   "cell_type": "code",
   "execution_count": null,
   "metadata": {
    "collapsed": true
   },
   "outputs": [],
   "source": [
    "query = (({'k':-1}, {'documents':1, 'time':1}))\n",
    "plt.title(\"Cilk Kmeans text\"); plt.ylabel('time(sec)'), plt.xlabel('# documents')\n",
    "for k in [2, 5,10,20]:\n",
    "    query[0]['k']=k\n",
    "    backend.plot_query(\"cilk_kmeans_comp\", query, label='k=%d'%k, show_plot=False)\n",
    "plt.show()"
   ]
  },
  {
   "cell_type": "code",
   "execution_count": null,
   "metadata": {
    "collapsed": true
   },
   "outputs": [],
   "source": [
    "### Spark K-means, multi-K"
   ]
  },
  {
   "cell_type": "code",
   "execution_count": 20,
   "metadata": {
    "collapsed": true
   },
   "outputs": [],
   "source": [
    "plt.title(\"Spark Kmeans text\"); plt.ylabel('time(sec)'), plt.xlabel('#documents')\n",
    "query = (({'minDF':10, 'k':-1}, {'documents':1, 'time':1}))\n",
    "for k in range(5,21,5):\n",
    "    query[0]['k']=k\n",
    "    backend.plot_query(\"spark_kmeans_text\", query,label='k=%d'%k, show_plot=False)\n",
    "show()"
   ]
  },
  {
   "cell_type": "code",
   "execution_count": 21,
   "metadata": {
    "collapsed": true
   },
   "outputs": [],
   "source": [
    "### Cilk"
   ]
  },
  {
   "cell_type": "code",
   "execution_count": 33,
   "metadata": {
    "collapsed": true
   },
   "outputs": [],
   "source": [
    "plt.title(\"Cilk K-Means (mindDF:110)\"); plt.ylabel('time(sec)'), plt.xlabel('#documents')\n",
    "query = (({'minDF':160, 'k':-1}, {'documents':1, 'time':1}))\n",
    "for k in range(5,21,5):\n",
    "    query[0]['k']=k\n",
    "    backend.plot_query(\"cilk_kmeans\", query,label='k=%d'%k, show_plot=False)\n",
    "show()"
   ]
  },
  {
   "cell_type": "code",
   "execution_count": 34,
   "metadata": {
    "collapsed": false
   },
   "outputs": [],
   "source": [
    "plt.title(\"Cilk K-Means (k:10)\"); plt.ylabel('time(sec)'), plt.xlabel('#documents')\n",
    "query = (({'minDF':1, 'k':10}, {'documents':1, 'time':1}))\n",
    "for minDF in range(10,161,50):\n",
    "    query[0]['minDF']=minDF\n",
    "    backend.plot_query(\"cilk_kmeans\", query,label='minDF=%d'%minDF, show_plot=False)\n",
    "show()"
   ]
  },
  {
   "cell_type": "code",
   "execution_count": null,
   "metadata": {
    "collapsed": true
   },
   "outputs": [],
   "source": []
  }
 ],
 "metadata": {
  "kernelspec": {
   "display_name": "Python 2",
   "language": "python",
   "name": "python2"
  },
  "language_info": {
   "codemirror_mode": {
    "name": "ipython",
    "version": 2
   },
   "file_extension": ".py",
   "mimetype": "text/x-python",
   "name": "python",
   "nbconvert_exporter": "python",
   "pygments_lexer": "ipython2",
   "version": "2.7.6"
  }
 },
 "nbformat": 4,
 "nbformat_minor": 0
}
